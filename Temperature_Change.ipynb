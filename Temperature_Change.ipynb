{
  "nbformat": 4,
  "nbformat_minor": 0,
  "metadata": {
    "colab": {
      "name": "Temperature Change.ipynb",
      "provenance": [],
      "authorship_tag": "ABX9TyOVbd5a5nqCQTeuTDIota3M",
      "include_colab_link": true
    },
    "kernelspec": {
      "name": "python3",
      "display_name": "Python 3"
    },
    "language_info": {
      "name": "python"
    }
  },
  "cells": [
    {
      "cell_type": "markdown",
      "metadata": {
        "id": "view-in-github",
        "colab_type": "text"
      },
      "source": [
        "<a href=\"https://colab.research.google.com/github/Meghakothari13/Temperature-Change-Data-Visualization/blob/main/Temperature_Change.ipynb\" target=\"_parent\"><img src=\"https://colab.research.google.com/assets/colab-badge.svg\" alt=\"Open In Colab\"/></a>"
      ]
    },
    {
      "cell_type": "code",
      "execution_count": 83,
      "metadata": {
        "id": "TMnZip_M6wLM"
      },
      "outputs": [],
      "source": [
        "import pandas as pd\n",
        "import numpy as np\n",
        "import seaborn as sns\n",
        "import matplotlib.pyplot as plt\n",
        "import plotly.express as px"
      ]
    },
    {
      "cell_type": "markdown",
      "source": [
        "## Loading Dataset"
      ],
      "metadata": {
        "id": "RM6oDLC7ooYd"
      }
    },
    {
      "cell_type": "code",
      "source": [
        "data = pd.read_csv(\"/content/Country _Temperature.csv\",encoding=\"latin1\")"
      ],
      "metadata": {
        "id": "QI0R1PL97WkV"
      },
      "execution_count": 84,
      "outputs": []
    },
    {
      "cell_type": "code",
      "source": [
        "data.head()"
      ],
      "metadata": {
        "colab": {
          "base_uri": "https://localhost:8080/",
          "height": 305
        },
        "id": "2YKjdHdK7X7_",
        "outputId": "f8399566-ef84-40cf-dba5-6c2b84b8eff2"
      },
      "execution_count": 85,
      "outputs": [
        {
          "output_type": "execute_result",
          "data": {
            "text/plain": [
              "   Area Code         Area  Months Code    Months  Element Code  \\\n",
              "0          2  Afghanistan         7001   January          7271   \n",
              "1          2  Afghanistan         7001   January          6078   \n",
              "2          2  Afghanistan         7002  February          7271   \n",
              "3          2  Afghanistan         7002  February          6078   \n",
              "4          2  Afghanistan         7003     March          7271   \n",
              "\n",
              "              Element Unit  Y1961  Y1962  Y1963  ...  Y2010  Y2011  Y2012  \\\n",
              "0  Temperature change   °C  0.777  0.062  2.744  ...  3.601  1.179 -0.583   \n",
              "1  Standard Deviation   °C  1.950  1.950  1.950  ...  1.950  1.950  1.950   \n",
              "2  Temperature change   °C -1.743  2.465  3.919  ...  1.212  0.321 -3.201   \n",
              "3  Standard Deviation   °C  2.597  2.597  2.597  ...  2.597  2.597  2.597   \n",
              "4  Temperature change   °C  0.516  1.336  0.403  ...  3.390  0.748 -0.527   \n",
              "\n",
              "   Y2013  Y2014  Y2015  Y2016  Y2017  Y2018  Y2019  \n",
              "0  1.233  1.755  1.943  3.416  1.201  1.996  2.951  \n",
              "1  1.950  1.950  1.950  1.950  1.950  1.950  1.950  \n",
              "2  1.494 -3.187  2.699  2.251 -0.323  2.705  0.086  \n",
              "3  2.597  2.597  2.597  2.597  2.597  2.597  2.597  \n",
              "4  2.246 -0.076 -0.497  2.296  0.834  4.418  0.234  \n",
              "\n",
              "[5 rows x 66 columns]"
            ],
            "text/html": [
              "\n",
              "  <div id=\"df-27e26ef0-34b6-4302-8e64-ad1566aa7726\" class=\"colab-df-container\">\n",
              "    <div>\n",
              "<style scoped>\n",
              "    .dataframe tbody tr th:only-of-type {\n",
              "        vertical-align: middle;\n",
              "    }\n",
              "\n",
              "    .dataframe tbody tr th {\n",
              "        vertical-align: top;\n",
              "    }\n",
              "\n",
              "    .dataframe thead th {\n",
              "        text-align: right;\n",
              "    }\n",
              "</style>\n",
              "<table border=\"1\" class=\"dataframe\">\n",
              "  <thead>\n",
              "    <tr style=\"text-align: right;\">\n",
              "      <th></th>\n",
              "      <th>Area Code</th>\n",
              "      <th>Area</th>\n",
              "      <th>Months Code</th>\n",
              "      <th>Months</th>\n",
              "      <th>Element Code</th>\n",
              "      <th>Element</th>\n",
              "      <th>Unit</th>\n",
              "      <th>Y1961</th>\n",
              "      <th>Y1962</th>\n",
              "      <th>Y1963</th>\n",
              "      <th>...</th>\n",
              "      <th>Y2010</th>\n",
              "      <th>Y2011</th>\n",
              "      <th>Y2012</th>\n",
              "      <th>Y2013</th>\n",
              "      <th>Y2014</th>\n",
              "      <th>Y2015</th>\n",
              "      <th>Y2016</th>\n",
              "      <th>Y2017</th>\n",
              "      <th>Y2018</th>\n",
              "      <th>Y2019</th>\n",
              "    </tr>\n",
              "  </thead>\n",
              "  <tbody>\n",
              "    <tr>\n",
              "      <th>0</th>\n",
              "      <td>2</td>\n",
              "      <td>Afghanistan</td>\n",
              "      <td>7001</td>\n",
              "      <td>January</td>\n",
              "      <td>7271</td>\n",
              "      <td>Temperature change</td>\n",
              "      <td>°C</td>\n",
              "      <td>0.777</td>\n",
              "      <td>0.062</td>\n",
              "      <td>2.744</td>\n",
              "      <td>...</td>\n",
              "      <td>3.601</td>\n",
              "      <td>1.179</td>\n",
              "      <td>-0.583</td>\n",
              "      <td>1.233</td>\n",
              "      <td>1.755</td>\n",
              "      <td>1.943</td>\n",
              "      <td>3.416</td>\n",
              "      <td>1.201</td>\n",
              "      <td>1.996</td>\n",
              "      <td>2.951</td>\n",
              "    </tr>\n",
              "    <tr>\n",
              "      <th>1</th>\n",
              "      <td>2</td>\n",
              "      <td>Afghanistan</td>\n",
              "      <td>7001</td>\n",
              "      <td>January</td>\n",
              "      <td>6078</td>\n",
              "      <td>Standard Deviation</td>\n",
              "      <td>°C</td>\n",
              "      <td>1.950</td>\n",
              "      <td>1.950</td>\n",
              "      <td>1.950</td>\n",
              "      <td>...</td>\n",
              "      <td>1.950</td>\n",
              "      <td>1.950</td>\n",
              "      <td>1.950</td>\n",
              "      <td>1.950</td>\n",
              "      <td>1.950</td>\n",
              "      <td>1.950</td>\n",
              "      <td>1.950</td>\n",
              "      <td>1.950</td>\n",
              "      <td>1.950</td>\n",
              "      <td>1.950</td>\n",
              "    </tr>\n",
              "    <tr>\n",
              "      <th>2</th>\n",
              "      <td>2</td>\n",
              "      <td>Afghanistan</td>\n",
              "      <td>7002</td>\n",
              "      <td>February</td>\n",
              "      <td>7271</td>\n",
              "      <td>Temperature change</td>\n",
              "      <td>°C</td>\n",
              "      <td>-1.743</td>\n",
              "      <td>2.465</td>\n",
              "      <td>3.919</td>\n",
              "      <td>...</td>\n",
              "      <td>1.212</td>\n",
              "      <td>0.321</td>\n",
              "      <td>-3.201</td>\n",
              "      <td>1.494</td>\n",
              "      <td>-3.187</td>\n",
              "      <td>2.699</td>\n",
              "      <td>2.251</td>\n",
              "      <td>-0.323</td>\n",
              "      <td>2.705</td>\n",
              "      <td>0.086</td>\n",
              "    </tr>\n",
              "    <tr>\n",
              "      <th>3</th>\n",
              "      <td>2</td>\n",
              "      <td>Afghanistan</td>\n",
              "      <td>7002</td>\n",
              "      <td>February</td>\n",
              "      <td>6078</td>\n",
              "      <td>Standard Deviation</td>\n",
              "      <td>°C</td>\n",
              "      <td>2.597</td>\n",
              "      <td>2.597</td>\n",
              "      <td>2.597</td>\n",
              "      <td>...</td>\n",
              "      <td>2.597</td>\n",
              "      <td>2.597</td>\n",
              "      <td>2.597</td>\n",
              "      <td>2.597</td>\n",
              "      <td>2.597</td>\n",
              "      <td>2.597</td>\n",
              "      <td>2.597</td>\n",
              "      <td>2.597</td>\n",
              "      <td>2.597</td>\n",
              "      <td>2.597</td>\n",
              "    </tr>\n",
              "    <tr>\n",
              "      <th>4</th>\n",
              "      <td>2</td>\n",
              "      <td>Afghanistan</td>\n",
              "      <td>7003</td>\n",
              "      <td>March</td>\n",
              "      <td>7271</td>\n",
              "      <td>Temperature change</td>\n",
              "      <td>°C</td>\n",
              "      <td>0.516</td>\n",
              "      <td>1.336</td>\n",
              "      <td>0.403</td>\n",
              "      <td>...</td>\n",
              "      <td>3.390</td>\n",
              "      <td>0.748</td>\n",
              "      <td>-0.527</td>\n",
              "      <td>2.246</td>\n",
              "      <td>-0.076</td>\n",
              "      <td>-0.497</td>\n",
              "      <td>2.296</td>\n",
              "      <td>0.834</td>\n",
              "      <td>4.418</td>\n",
              "      <td>0.234</td>\n",
              "    </tr>\n",
              "  </tbody>\n",
              "</table>\n",
              "<p>5 rows × 66 columns</p>\n",
              "</div>\n",
              "    <div class=\"colab-df-buttons\">\n",
              "\n",
              "  <div class=\"colab-df-container\">\n",
              "    <button class=\"colab-df-convert\" onclick=\"convertToInteractive('df-27e26ef0-34b6-4302-8e64-ad1566aa7726')\"\n",
              "            title=\"Convert this dataframe to an interactive table.\"\n",
              "            style=\"display:none;\">\n",
              "\n",
              "  <svg xmlns=\"http://www.w3.org/2000/svg\" height=\"24px\" viewBox=\"0 -960 960 960\">\n",
              "    <path d=\"M120-120v-720h720v720H120Zm60-500h600v-160H180v160Zm220 220h160v-160H400v160Zm0 220h160v-160H400v160ZM180-400h160v-160H180v160Zm440 0h160v-160H620v160ZM180-180h160v-160H180v160Zm440 0h160v-160H620v160Z\"/>\n",
              "  </svg>\n",
              "    </button>\n",
              "\n",
              "  <style>\n",
              "    .colab-df-container {\n",
              "      display:flex;\n",
              "      gap: 12px;\n",
              "    }\n",
              "\n",
              "    .colab-df-convert {\n",
              "      background-color: #E8F0FE;\n",
              "      border: none;\n",
              "      border-radius: 50%;\n",
              "      cursor: pointer;\n",
              "      display: none;\n",
              "      fill: #1967D2;\n",
              "      height: 32px;\n",
              "      padding: 0 0 0 0;\n",
              "      width: 32px;\n",
              "    }\n",
              "\n",
              "    .colab-df-convert:hover {\n",
              "      background-color: #E2EBFA;\n",
              "      box-shadow: 0px 1px 2px rgba(60, 64, 67, 0.3), 0px 1px 3px 1px rgba(60, 64, 67, 0.15);\n",
              "      fill: #174EA6;\n",
              "    }\n",
              "\n",
              "    .colab-df-buttons div {\n",
              "      margin-bottom: 4px;\n",
              "    }\n",
              "\n",
              "    [theme=dark] .colab-df-convert {\n",
              "      background-color: #3B4455;\n",
              "      fill: #D2E3FC;\n",
              "    }\n",
              "\n",
              "    [theme=dark] .colab-df-convert:hover {\n",
              "      background-color: #434B5C;\n",
              "      box-shadow: 0px 1px 3px 1px rgba(0, 0, 0, 0.15);\n",
              "      filter: drop-shadow(0px 1px 2px rgba(0, 0, 0, 0.3));\n",
              "      fill: #FFFFFF;\n",
              "    }\n",
              "  </style>\n",
              "\n",
              "    <script>\n",
              "      const buttonEl =\n",
              "        document.querySelector('#df-27e26ef0-34b6-4302-8e64-ad1566aa7726 button.colab-df-convert');\n",
              "      buttonEl.style.display =\n",
              "        google.colab.kernel.accessAllowed ? 'block' : 'none';\n",
              "\n",
              "      async function convertToInteractive(key) {\n",
              "        const element = document.querySelector('#df-27e26ef0-34b6-4302-8e64-ad1566aa7726');\n",
              "        const dataTable =\n",
              "          await google.colab.kernel.invokeFunction('convertToInteractive',\n",
              "                                                    [key], {});\n",
              "        if (!dataTable) return;\n",
              "\n",
              "        const docLinkHtml = 'Like what you see? Visit the ' +\n",
              "          '<a target=\"_blank\" href=https://colab.research.google.com/notebooks/data_table.ipynb>data table notebook</a>'\n",
              "          + ' to learn more about interactive tables.';\n",
              "        element.innerHTML = '';\n",
              "        dataTable['output_type'] = 'display_data';\n",
              "        await google.colab.output.renderOutput(dataTable, element);\n",
              "        const docLink = document.createElement('div');\n",
              "        docLink.innerHTML = docLinkHtml;\n",
              "        element.appendChild(docLink);\n",
              "      }\n",
              "    </script>\n",
              "  </div>\n",
              "\n",
              "\n",
              "<div id=\"df-aab2b424-9c13-4798-bcee-b49081c87e7c\">\n",
              "  <button class=\"colab-df-quickchart\" onclick=\"quickchart('df-aab2b424-9c13-4798-bcee-b49081c87e7c')\"\n",
              "            title=\"Suggest charts\"\n",
              "            style=\"display:none;\">\n",
              "\n",
              "<svg xmlns=\"http://www.w3.org/2000/svg\" height=\"24px\"viewBox=\"0 0 24 24\"\n",
              "     width=\"24px\">\n",
              "    <g>\n",
              "        <path d=\"M19 3H5c-1.1 0-2 .9-2 2v14c0 1.1.9 2 2 2h14c1.1 0 2-.9 2-2V5c0-1.1-.9-2-2-2zM9 17H7v-7h2v7zm4 0h-2V7h2v10zm4 0h-2v-4h2v4z\"/>\n",
              "    </g>\n",
              "</svg>\n",
              "  </button>\n",
              "\n",
              "<style>\n",
              "  .colab-df-quickchart {\n",
              "      --bg-color: #E8F0FE;\n",
              "      --fill-color: #1967D2;\n",
              "      --hover-bg-color: #E2EBFA;\n",
              "      --hover-fill-color: #174EA6;\n",
              "      --disabled-fill-color: #AAA;\n",
              "      --disabled-bg-color: #DDD;\n",
              "  }\n",
              "\n",
              "  [theme=dark] .colab-df-quickchart {\n",
              "      --bg-color: #3B4455;\n",
              "      --fill-color: #D2E3FC;\n",
              "      --hover-bg-color: #434B5C;\n",
              "      --hover-fill-color: #FFFFFF;\n",
              "      --disabled-bg-color: #3B4455;\n",
              "      --disabled-fill-color: #666;\n",
              "  }\n",
              "\n",
              "  .colab-df-quickchart {\n",
              "    background-color: var(--bg-color);\n",
              "    border: none;\n",
              "    border-radius: 50%;\n",
              "    cursor: pointer;\n",
              "    display: none;\n",
              "    fill: var(--fill-color);\n",
              "    height: 32px;\n",
              "    padding: 0;\n",
              "    width: 32px;\n",
              "  }\n",
              "\n",
              "  .colab-df-quickchart:hover {\n",
              "    background-color: var(--hover-bg-color);\n",
              "    box-shadow: 0 1px 2px rgba(60, 64, 67, 0.3), 0 1px 3px 1px rgba(60, 64, 67, 0.15);\n",
              "    fill: var(--button-hover-fill-color);\n",
              "  }\n",
              "\n",
              "  .colab-df-quickchart-complete:disabled,\n",
              "  .colab-df-quickchart-complete:disabled:hover {\n",
              "    background-color: var(--disabled-bg-color);\n",
              "    fill: var(--disabled-fill-color);\n",
              "    box-shadow: none;\n",
              "  }\n",
              "\n",
              "  .colab-df-spinner {\n",
              "    border: 2px solid var(--fill-color);\n",
              "    border-color: transparent;\n",
              "    border-bottom-color: var(--fill-color);\n",
              "    animation:\n",
              "      spin 1s steps(1) infinite;\n",
              "  }\n",
              "\n",
              "  @keyframes spin {\n",
              "    0% {\n",
              "      border-color: transparent;\n",
              "      border-bottom-color: var(--fill-color);\n",
              "      border-left-color: var(--fill-color);\n",
              "    }\n",
              "    20% {\n",
              "      border-color: transparent;\n",
              "      border-left-color: var(--fill-color);\n",
              "      border-top-color: var(--fill-color);\n",
              "    }\n",
              "    30% {\n",
              "      border-color: transparent;\n",
              "      border-left-color: var(--fill-color);\n",
              "      border-top-color: var(--fill-color);\n",
              "      border-right-color: var(--fill-color);\n",
              "    }\n",
              "    40% {\n",
              "      border-color: transparent;\n",
              "      border-right-color: var(--fill-color);\n",
              "      border-top-color: var(--fill-color);\n",
              "    }\n",
              "    60% {\n",
              "      border-color: transparent;\n",
              "      border-right-color: var(--fill-color);\n",
              "    }\n",
              "    80% {\n",
              "      border-color: transparent;\n",
              "      border-right-color: var(--fill-color);\n",
              "      border-bottom-color: var(--fill-color);\n",
              "    }\n",
              "    90% {\n",
              "      border-color: transparent;\n",
              "      border-bottom-color: var(--fill-color);\n",
              "    }\n",
              "  }\n",
              "</style>\n",
              "\n",
              "  <script>\n",
              "    async function quickchart(key) {\n",
              "      const quickchartButtonEl =\n",
              "        document.querySelector('#' + key + ' button');\n",
              "      quickchartButtonEl.disabled = true;  // To prevent multiple clicks.\n",
              "      quickchartButtonEl.classList.add('colab-df-spinner');\n",
              "      try {\n",
              "        const charts = await google.colab.kernel.invokeFunction(\n",
              "            'suggestCharts', [key], {});\n",
              "      } catch (error) {\n",
              "        console.error('Error during call to suggestCharts:', error);\n",
              "      }\n",
              "      quickchartButtonEl.classList.remove('colab-df-spinner');\n",
              "      quickchartButtonEl.classList.add('colab-df-quickchart-complete');\n",
              "    }\n",
              "    (() => {\n",
              "      let quickchartButtonEl =\n",
              "        document.querySelector('#df-aab2b424-9c13-4798-bcee-b49081c87e7c button');\n",
              "      quickchartButtonEl.style.display =\n",
              "        google.colab.kernel.accessAllowed ? 'block' : 'none';\n",
              "    })();\n",
              "  </script>\n",
              "</div>\n",
              "\n",
              "    </div>\n",
              "  </div>\n"
            ],
            "application/vnd.google.colaboratory.intrinsic+json": {
              "type": "dataframe",
              "variable_name": "data"
            }
          },
          "metadata": {},
          "execution_count": 85
        }
      ]
    },
    {
      "cell_type": "markdown",
      "source": [
        "## Feature Selection"
      ],
      "metadata": {
        "id": "zbL-ymW2ou90"
      }
    },
    {
      "cell_type": "code",
      "source": [
        "#get summary of data\n",
        "data.info()"
      ],
      "metadata": {
        "colab": {
          "base_uri": "https://localhost:8080/"
        },
        "id": "mLN8ia4Q7Zgt",
        "outputId": "58f32747-182f-4c20-9549-07fd603daf99"
      },
      "execution_count": 86,
      "outputs": [
        {
          "output_type": "stream",
          "name": "stdout",
          "text": [
            "<class 'pandas.core.frame.DataFrame'>\n",
            "RangeIndex: 9656 entries, 0 to 9655\n",
            "Data columns (total 66 columns):\n",
            " #   Column        Non-Null Count  Dtype  \n",
            "---  ------        --------------  -----  \n",
            " 0   Area Code     9656 non-null   int64  \n",
            " 1   Area          9656 non-null   object \n",
            " 2   Months Code   9656 non-null   int64  \n",
            " 3   Months        9656 non-null   object \n",
            " 4   Element Code  9656 non-null   int64  \n",
            " 5   Element       9656 non-null   object \n",
            " 6   Unit          9656 non-null   object \n",
            " 7   Y1961         8287 non-null   float64\n",
            " 8   Y1962         8322 non-null   float64\n",
            " 9   Y1963         8294 non-null   float64\n",
            " 10  Y1964         8252 non-null   float64\n",
            " 11  Y1965         8281 non-null   float64\n",
            " 12  Y1966         8364 non-null   float64\n",
            " 13  Y1967         8347 non-null   float64\n",
            " 14  Y1968         8345 non-null   float64\n",
            " 15  Y1969         8326 non-null   float64\n",
            " 16  Y1970         8308 non-null   float64\n",
            " 17  Y1971         8303 non-null   float64\n",
            " 18  Y1972         8323 non-null   float64\n",
            " 19  Y1973         8394 non-null   float64\n",
            " 20  Y1974         8374 non-null   float64\n",
            " 21  Y1975         8280 non-null   float64\n",
            " 22  Y1976         8209 non-null   float64\n",
            " 23  Y1977         8257 non-null   float64\n",
            " 24  Y1978         8327 non-null   float64\n",
            " 25  Y1979         8290 non-null   float64\n",
            " 26  Y1980         8283 non-null   float64\n",
            " 27  Y1981         8276 non-null   float64\n",
            " 28  Y1982         8237 non-null   float64\n",
            " 29  Y1983         8205 non-null   float64\n",
            " 30  Y1984         8259 non-null   float64\n",
            " 31  Y1985         8216 non-null   float64\n",
            " 32  Y1986         8268 non-null   float64\n",
            " 33  Y1987         8284 non-null   float64\n",
            " 34  Y1988         8273 non-null   float64\n",
            " 35  Y1989         8257 non-null   float64\n",
            " 36  Y1990         8239 non-null   float64\n",
            " 37  Y1991         8158 non-null   float64\n",
            " 38  Y1992         8354 non-null   float64\n",
            " 39  Y1993         8315 non-null   float64\n",
            " 40  Y1994         8373 non-null   float64\n",
            " 41  Y1995         8409 non-null   float64\n",
            " 42  Y1996         8439 non-null   float64\n",
            " 43  Y1997         8309 non-null   float64\n",
            " 44  Y1998         8370 non-null   float64\n",
            " 45  Y1999         8324 non-null   float64\n",
            " 46  Y2000         8342 non-null   float64\n",
            " 47  Y2001         8241 non-null   float64\n",
            " 48  Y2002         8312 non-null   float64\n",
            " 49  Y2003         8390 non-null   float64\n",
            " 50  Y2004         8415 non-null   float64\n",
            " 51  Y2005         8424 non-null   float64\n",
            " 52  Y2006         8503 non-null   float64\n",
            " 53  Y2007         8534 non-null   float64\n",
            " 54  Y2008         8475 non-null   float64\n",
            " 55  Y2009         8419 non-null   float64\n",
            " 56  Y2010         8435 non-null   float64\n",
            " 57  Y2011         8437 non-null   float64\n",
            " 58  Y2012         8350 non-null   float64\n",
            " 59  Y2013         8427 non-null   float64\n",
            " 60  Y2014         8377 non-null   float64\n",
            " 61  Y2015         8361 non-null   float64\n",
            " 62  Y2016         8348 non-null   float64\n",
            " 63  Y2017         8366 non-null   float64\n",
            " 64  Y2018         8349 non-null   float64\n",
            " 65  Y2019         8365 non-null   float64\n",
            "dtypes: float64(59), int64(3), object(4)\n",
            "memory usage: 4.9+ MB\n"
          ]
        }
      ]
    },
    {
      "cell_type": "code",
      "source": [
        "#getting values where element is Temperature change\n",
        "data=data[data[\"Element\"]==\"Temperature change\"]"
      ],
      "metadata": {
        "id": "OMAwoPyi7bUr"
      },
      "execution_count": 87,
      "outputs": []
    },
    {
      "cell_type": "code",
      "source": [
        "#filling null values\n",
        "data = data.fillna(0)"
      ],
      "metadata": {
        "id": "D9OpgKE17oOs"
      },
      "execution_count": 88,
      "outputs": []
    },
    {
      "cell_type": "code",
      "source": [
        "data.columns"
      ],
      "metadata": {
        "colab": {
          "base_uri": "https://localhost:8080/"
        },
        "id": "pYZyv_Pc7oRd",
        "outputId": "3382366e-b467-43a5-8bd7-200a740a3dc3"
      },
      "execution_count": 89,
      "outputs": [
        {
          "output_type": "execute_result",
          "data": {
            "text/plain": [
              "Index(['Area Code', 'Area', 'Months Code', 'Months', 'Element Code', 'Element',\n",
              "       'Unit', 'Y1961', 'Y1962', 'Y1963', 'Y1964', 'Y1965', 'Y1966', 'Y1967',\n",
              "       'Y1968', 'Y1969', 'Y1970', 'Y1971', 'Y1972', 'Y1973', 'Y1974', 'Y1975',\n",
              "       'Y1976', 'Y1977', 'Y1978', 'Y1979', 'Y1980', 'Y1981', 'Y1982', 'Y1983',\n",
              "       'Y1984', 'Y1985', 'Y1986', 'Y1987', 'Y1988', 'Y1989', 'Y1990', 'Y1991',\n",
              "       'Y1992', 'Y1993', 'Y1994', 'Y1995', 'Y1996', 'Y1997', 'Y1998', 'Y1999',\n",
              "       'Y2000', 'Y2001', 'Y2002', 'Y2003', 'Y2004', 'Y2005', 'Y2006', 'Y2007',\n",
              "       'Y2008', 'Y2009', 'Y2010', 'Y2011', 'Y2012', 'Y2013', 'Y2014', 'Y2015',\n",
              "       'Y2016', 'Y2017', 'Y2018', 'Y2019'],\n",
              "      dtype='object')"
            ]
          },
          "metadata": {},
          "execution_count": 89
        }
      ]
    },
    {
      "cell_type": "code",
      "source": [
        "#Turn years columns into rows using melt function\n",
        "data=data.melt(id_vars=['Area Code', 'Area', 'Months Code', 'Months', 'Element Code', 'Element',\n",
        "       'Unit'],var_name='Year', value_name='Temp Change')\n",
        "data.head()"
      ],
      "metadata": {
        "colab": {
          "base_uri": "https://localhost:8080/",
          "height": 206
        },
        "id": "b8f7mJXP7oUv",
        "outputId": "cae2252f-bfdb-4afe-fa6e-058e96574060"
      },
      "execution_count": 90,
      "outputs": [
        {
          "output_type": "execute_result",
          "data": {
            "text/plain": [
              "   Area Code         Area  Months Code    Months  Element Code  \\\n",
              "0          2  Afghanistan         7001   January          7271   \n",
              "1          2  Afghanistan         7002  February          7271   \n",
              "2          2  Afghanistan         7003     March          7271   \n",
              "3          2  Afghanistan         7004     April          7271   \n",
              "4          2  Afghanistan         7005       May          7271   \n",
              "\n",
              "              Element Unit   Year  Temp Change  \n",
              "0  Temperature change   °C  Y1961        0.777  \n",
              "1  Temperature change   °C  Y1961       -1.743  \n",
              "2  Temperature change   °C  Y1961        0.516  \n",
              "3  Temperature change   °C  Y1961       -1.709  \n",
              "4  Temperature change   °C  Y1961        1.412  "
            ],
            "text/html": [
              "\n",
              "  <div id=\"df-203543a3-fc48-4895-8c5d-10c5666ca063\" class=\"colab-df-container\">\n",
              "    <div>\n",
              "<style scoped>\n",
              "    .dataframe tbody tr th:only-of-type {\n",
              "        vertical-align: middle;\n",
              "    }\n",
              "\n",
              "    .dataframe tbody tr th {\n",
              "        vertical-align: top;\n",
              "    }\n",
              "\n",
              "    .dataframe thead th {\n",
              "        text-align: right;\n",
              "    }\n",
              "</style>\n",
              "<table border=\"1\" class=\"dataframe\">\n",
              "  <thead>\n",
              "    <tr style=\"text-align: right;\">\n",
              "      <th></th>\n",
              "      <th>Area Code</th>\n",
              "      <th>Area</th>\n",
              "      <th>Months Code</th>\n",
              "      <th>Months</th>\n",
              "      <th>Element Code</th>\n",
              "      <th>Element</th>\n",
              "      <th>Unit</th>\n",
              "      <th>Year</th>\n",
              "      <th>Temp Change</th>\n",
              "    </tr>\n",
              "  </thead>\n",
              "  <tbody>\n",
              "    <tr>\n",
              "      <th>0</th>\n",
              "      <td>2</td>\n",
              "      <td>Afghanistan</td>\n",
              "      <td>7001</td>\n",
              "      <td>January</td>\n",
              "      <td>7271</td>\n",
              "      <td>Temperature change</td>\n",
              "      <td>°C</td>\n",
              "      <td>Y1961</td>\n",
              "      <td>0.777</td>\n",
              "    </tr>\n",
              "    <tr>\n",
              "      <th>1</th>\n",
              "      <td>2</td>\n",
              "      <td>Afghanistan</td>\n",
              "      <td>7002</td>\n",
              "      <td>February</td>\n",
              "      <td>7271</td>\n",
              "      <td>Temperature change</td>\n",
              "      <td>°C</td>\n",
              "      <td>Y1961</td>\n",
              "      <td>-1.743</td>\n",
              "    </tr>\n",
              "    <tr>\n",
              "      <th>2</th>\n",
              "      <td>2</td>\n",
              "      <td>Afghanistan</td>\n",
              "      <td>7003</td>\n",
              "      <td>March</td>\n",
              "      <td>7271</td>\n",
              "      <td>Temperature change</td>\n",
              "      <td>°C</td>\n",
              "      <td>Y1961</td>\n",
              "      <td>0.516</td>\n",
              "    </tr>\n",
              "    <tr>\n",
              "      <th>3</th>\n",
              "      <td>2</td>\n",
              "      <td>Afghanistan</td>\n",
              "      <td>7004</td>\n",
              "      <td>April</td>\n",
              "      <td>7271</td>\n",
              "      <td>Temperature change</td>\n",
              "      <td>°C</td>\n",
              "      <td>Y1961</td>\n",
              "      <td>-1.709</td>\n",
              "    </tr>\n",
              "    <tr>\n",
              "      <th>4</th>\n",
              "      <td>2</td>\n",
              "      <td>Afghanistan</td>\n",
              "      <td>7005</td>\n",
              "      <td>May</td>\n",
              "      <td>7271</td>\n",
              "      <td>Temperature change</td>\n",
              "      <td>°C</td>\n",
              "      <td>Y1961</td>\n",
              "      <td>1.412</td>\n",
              "    </tr>\n",
              "  </tbody>\n",
              "</table>\n",
              "</div>\n",
              "    <div class=\"colab-df-buttons\">\n",
              "\n",
              "  <div class=\"colab-df-container\">\n",
              "    <button class=\"colab-df-convert\" onclick=\"convertToInteractive('df-203543a3-fc48-4895-8c5d-10c5666ca063')\"\n",
              "            title=\"Convert this dataframe to an interactive table.\"\n",
              "            style=\"display:none;\">\n",
              "\n",
              "  <svg xmlns=\"http://www.w3.org/2000/svg\" height=\"24px\" viewBox=\"0 -960 960 960\">\n",
              "    <path d=\"M120-120v-720h720v720H120Zm60-500h600v-160H180v160Zm220 220h160v-160H400v160Zm0 220h160v-160H400v160ZM180-400h160v-160H180v160Zm440 0h160v-160H620v160ZM180-180h160v-160H180v160Zm440 0h160v-160H620v160Z\"/>\n",
              "  </svg>\n",
              "    </button>\n",
              "\n",
              "  <style>\n",
              "    .colab-df-container {\n",
              "      display:flex;\n",
              "      gap: 12px;\n",
              "    }\n",
              "\n",
              "    .colab-df-convert {\n",
              "      background-color: #E8F0FE;\n",
              "      border: none;\n",
              "      border-radius: 50%;\n",
              "      cursor: pointer;\n",
              "      display: none;\n",
              "      fill: #1967D2;\n",
              "      height: 32px;\n",
              "      padding: 0 0 0 0;\n",
              "      width: 32px;\n",
              "    }\n",
              "\n",
              "    .colab-df-convert:hover {\n",
              "      background-color: #E2EBFA;\n",
              "      box-shadow: 0px 1px 2px rgba(60, 64, 67, 0.3), 0px 1px 3px 1px rgba(60, 64, 67, 0.15);\n",
              "      fill: #174EA6;\n",
              "    }\n",
              "\n",
              "    .colab-df-buttons div {\n",
              "      margin-bottom: 4px;\n",
              "    }\n",
              "\n",
              "    [theme=dark] .colab-df-convert {\n",
              "      background-color: #3B4455;\n",
              "      fill: #D2E3FC;\n",
              "    }\n",
              "\n",
              "    [theme=dark] .colab-df-convert:hover {\n",
              "      background-color: #434B5C;\n",
              "      box-shadow: 0px 1px 3px 1px rgba(0, 0, 0, 0.15);\n",
              "      filter: drop-shadow(0px 1px 2px rgba(0, 0, 0, 0.3));\n",
              "      fill: #FFFFFF;\n",
              "    }\n",
              "  </style>\n",
              "\n",
              "    <script>\n",
              "      const buttonEl =\n",
              "        document.querySelector('#df-203543a3-fc48-4895-8c5d-10c5666ca063 button.colab-df-convert');\n",
              "      buttonEl.style.display =\n",
              "        google.colab.kernel.accessAllowed ? 'block' : 'none';\n",
              "\n",
              "      async function convertToInteractive(key) {\n",
              "        const element = document.querySelector('#df-203543a3-fc48-4895-8c5d-10c5666ca063');\n",
              "        const dataTable =\n",
              "          await google.colab.kernel.invokeFunction('convertToInteractive',\n",
              "                                                    [key], {});\n",
              "        if (!dataTable) return;\n",
              "\n",
              "        const docLinkHtml = 'Like what you see? Visit the ' +\n",
              "          '<a target=\"_blank\" href=https://colab.research.google.com/notebooks/data_table.ipynb>data table notebook</a>'\n",
              "          + ' to learn more about interactive tables.';\n",
              "        element.innerHTML = '';\n",
              "        dataTable['output_type'] = 'display_data';\n",
              "        await google.colab.output.renderOutput(dataTable, element);\n",
              "        const docLink = document.createElement('div');\n",
              "        docLink.innerHTML = docLinkHtml;\n",
              "        element.appendChild(docLink);\n",
              "      }\n",
              "    </script>\n",
              "  </div>\n",
              "\n",
              "\n",
              "<div id=\"df-d260eb7a-23a9-45d7-a077-5d5dd089325d\">\n",
              "  <button class=\"colab-df-quickchart\" onclick=\"quickchart('df-d260eb7a-23a9-45d7-a077-5d5dd089325d')\"\n",
              "            title=\"Suggest charts\"\n",
              "            style=\"display:none;\">\n",
              "\n",
              "<svg xmlns=\"http://www.w3.org/2000/svg\" height=\"24px\"viewBox=\"0 0 24 24\"\n",
              "     width=\"24px\">\n",
              "    <g>\n",
              "        <path d=\"M19 3H5c-1.1 0-2 .9-2 2v14c0 1.1.9 2 2 2h14c1.1 0 2-.9 2-2V5c0-1.1-.9-2-2-2zM9 17H7v-7h2v7zm4 0h-2V7h2v10zm4 0h-2v-4h2v4z\"/>\n",
              "    </g>\n",
              "</svg>\n",
              "  </button>\n",
              "\n",
              "<style>\n",
              "  .colab-df-quickchart {\n",
              "      --bg-color: #E8F0FE;\n",
              "      --fill-color: #1967D2;\n",
              "      --hover-bg-color: #E2EBFA;\n",
              "      --hover-fill-color: #174EA6;\n",
              "      --disabled-fill-color: #AAA;\n",
              "      --disabled-bg-color: #DDD;\n",
              "  }\n",
              "\n",
              "  [theme=dark] .colab-df-quickchart {\n",
              "      --bg-color: #3B4455;\n",
              "      --fill-color: #D2E3FC;\n",
              "      --hover-bg-color: #434B5C;\n",
              "      --hover-fill-color: #FFFFFF;\n",
              "      --disabled-bg-color: #3B4455;\n",
              "      --disabled-fill-color: #666;\n",
              "  }\n",
              "\n",
              "  .colab-df-quickchart {\n",
              "    background-color: var(--bg-color);\n",
              "    border: none;\n",
              "    border-radius: 50%;\n",
              "    cursor: pointer;\n",
              "    display: none;\n",
              "    fill: var(--fill-color);\n",
              "    height: 32px;\n",
              "    padding: 0;\n",
              "    width: 32px;\n",
              "  }\n",
              "\n",
              "  .colab-df-quickchart:hover {\n",
              "    background-color: var(--hover-bg-color);\n",
              "    box-shadow: 0 1px 2px rgba(60, 64, 67, 0.3), 0 1px 3px 1px rgba(60, 64, 67, 0.15);\n",
              "    fill: var(--button-hover-fill-color);\n",
              "  }\n",
              "\n",
              "  .colab-df-quickchart-complete:disabled,\n",
              "  .colab-df-quickchart-complete:disabled:hover {\n",
              "    background-color: var(--disabled-bg-color);\n",
              "    fill: var(--disabled-fill-color);\n",
              "    box-shadow: none;\n",
              "  }\n",
              "\n",
              "  .colab-df-spinner {\n",
              "    border: 2px solid var(--fill-color);\n",
              "    border-color: transparent;\n",
              "    border-bottom-color: var(--fill-color);\n",
              "    animation:\n",
              "      spin 1s steps(1) infinite;\n",
              "  }\n",
              "\n",
              "  @keyframes spin {\n",
              "    0% {\n",
              "      border-color: transparent;\n",
              "      border-bottom-color: var(--fill-color);\n",
              "      border-left-color: var(--fill-color);\n",
              "    }\n",
              "    20% {\n",
              "      border-color: transparent;\n",
              "      border-left-color: var(--fill-color);\n",
              "      border-top-color: var(--fill-color);\n",
              "    }\n",
              "    30% {\n",
              "      border-color: transparent;\n",
              "      border-left-color: var(--fill-color);\n",
              "      border-top-color: var(--fill-color);\n",
              "      border-right-color: var(--fill-color);\n",
              "    }\n",
              "    40% {\n",
              "      border-color: transparent;\n",
              "      border-right-color: var(--fill-color);\n",
              "      border-top-color: var(--fill-color);\n",
              "    }\n",
              "    60% {\n",
              "      border-color: transparent;\n",
              "      border-right-color: var(--fill-color);\n",
              "    }\n",
              "    80% {\n",
              "      border-color: transparent;\n",
              "      border-right-color: var(--fill-color);\n",
              "      border-bottom-color: var(--fill-color);\n",
              "    }\n",
              "    90% {\n",
              "      border-color: transparent;\n",
              "      border-bottom-color: var(--fill-color);\n",
              "    }\n",
              "  }\n",
              "</style>\n",
              "\n",
              "  <script>\n",
              "    async function quickchart(key) {\n",
              "      const quickchartButtonEl =\n",
              "        document.querySelector('#' + key + ' button');\n",
              "      quickchartButtonEl.disabled = true;  // To prevent multiple clicks.\n",
              "      quickchartButtonEl.classList.add('colab-df-spinner');\n",
              "      try {\n",
              "        const charts = await google.colab.kernel.invokeFunction(\n",
              "            'suggestCharts', [key], {});\n",
              "      } catch (error) {\n",
              "        console.error('Error during call to suggestCharts:', error);\n",
              "      }\n",
              "      quickchartButtonEl.classList.remove('colab-df-spinner');\n",
              "      quickchartButtonEl.classList.add('colab-df-quickchart-complete');\n",
              "    }\n",
              "    (() => {\n",
              "      let quickchartButtonEl =\n",
              "        document.querySelector('#df-d260eb7a-23a9-45d7-a077-5d5dd089325d button');\n",
              "      quickchartButtonEl.style.display =\n",
              "        google.colab.kernel.accessAllowed ? 'block' : 'none';\n",
              "    })();\n",
              "  </script>\n",
              "</div>\n",
              "\n",
              "    </div>\n",
              "  </div>\n"
            ],
            "application/vnd.google.colaboratory.intrinsic+json": {
              "type": "dataframe",
              "variable_name": "data"
            }
          },
          "metadata": {},
          "execution_count": 90
        }
      ]
    },
    {
      "cell_type": "code",
      "source": [
        "data['Unit'].value_counts()"
      ],
      "metadata": {
        "colab": {
          "base_uri": "https://localhost:8080/",
          "height": 147
        },
        "id": "QMszSufc7oWs",
        "outputId": "c6ca80d4-108b-48f6-a8f2-10fa9eb8e828"
      },
      "execution_count": 91,
      "outputs": [
        {
          "output_type": "execute_result",
          "data": {
            "text/plain": [
              "Unit\n",
              "°C    284852\n",
              "Name: count, dtype: int64"
            ],
            "text/html": [
              "<div>\n",
              "<style scoped>\n",
              "    .dataframe tbody tr th:only-of-type {\n",
              "        vertical-align: middle;\n",
              "    }\n",
              "\n",
              "    .dataframe tbody tr th {\n",
              "        vertical-align: top;\n",
              "    }\n",
              "\n",
              "    .dataframe thead th {\n",
              "        text-align: right;\n",
              "    }\n",
              "</style>\n",
              "<table border=\"1\" class=\"dataframe\">\n",
              "  <thead>\n",
              "    <tr style=\"text-align: right;\">\n",
              "      <th></th>\n",
              "      <th>count</th>\n",
              "    </tr>\n",
              "    <tr>\n",
              "      <th>Unit</th>\n",
              "      <th></th>\n",
              "    </tr>\n",
              "  </thead>\n",
              "  <tbody>\n",
              "    <tr>\n",
              "      <th>°C</th>\n",
              "      <td>284852</td>\n",
              "    </tr>\n",
              "  </tbody>\n",
              "</table>\n",
              "</div><br><label><b>dtype:</b> int64</label>"
            ]
          },
          "metadata": {},
          "execution_count": 91
        }
      ]
    },
    {
      "cell_type": "code",
      "source": [
        "# dropping 'Months Code','Element Code', 'Unit' columns\n",
        "data.drop(['Months Code','Element Code', 'Unit'], axis=1, inplace=True)"
      ],
      "metadata": {
        "id": "4SzLuCKs79LA"
      },
      "execution_count": 92,
      "outputs": []
    },
    {
      "cell_type": "code",
      "source": [
        "data.head()"
      ],
      "metadata": {
        "colab": {
          "base_uri": "https://localhost:8080/"
        },
        "id": "YtRwnvPw8DdR",
        "outputId": "076e17cc-3a25-4952-b2d8-9c05bd0a3b47"
      },
      "execution_count": 93,
      "outputs": [
        {
          "output_type": "execute_result",
          "data": {
            "text/plain": [
              "   Area Code         Area    Months             Element   Year  Temp Change\n",
              "0          2  Afghanistan   January  Temperature change  Y1961        0.777\n",
              "1          2  Afghanistan  February  Temperature change  Y1961       -1.743\n",
              "2          2  Afghanistan     March  Temperature change  Y1961        0.516\n",
              "3          2  Afghanistan     April  Temperature change  Y1961       -1.709\n",
              "4          2  Afghanistan       May  Temperature change  Y1961        1.412"
            ],
            "text/html": [
              "\n",
              "  <div id=\"df-6948dac3-1f3c-4e8d-9076-f656086e1e84\" class=\"colab-df-container\">\n",
              "    <div>\n",
              "<style scoped>\n",
              "    .dataframe tbody tr th:only-of-type {\n",
              "        vertical-align: middle;\n",
              "    }\n",
              "\n",
              "    .dataframe tbody tr th {\n",
              "        vertical-align: top;\n",
              "    }\n",
              "\n",
              "    .dataframe thead th {\n",
              "        text-align: right;\n",
              "    }\n",
              "</style>\n",
              "<table border=\"1\" class=\"dataframe\">\n",
              "  <thead>\n",
              "    <tr style=\"text-align: right;\">\n",
              "      <th></th>\n",
              "      <th>Area Code</th>\n",
              "      <th>Area</th>\n",
              "      <th>Months</th>\n",
              "      <th>Element</th>\n",
              "      <th>Year</th>\n",
              "      <th>Temp Change</th>\n",
              "    </tr>\n",
              "  </thead>\n",
              "  <tbody>\n",
              "    <tr>\n",
              "      <th>0</th>\n",
              "      <td>2</td>\n",
              "      <td>Afghanistan</td>\n",
              "      <td>January</td>\n",
              "      <td>Temperature change</td>\n",
              "      <td>Y1961</td>\n",
              "      <td>0.777</td>\n",
              "    </tr>\n",
              "    <tr>\n",
              "      <th>1</th>\n",
              "      <td>2</td>\n",
              "      <td>Afghanistan</td>\n",
              "      <td>February</td>\n",
              "      <td>Temperature change</td>\n",
              "      <td>Y1961</td>\n",
              "      <td>-1.743</td>\n",
              "    </tr>\n",
              "    <tr>\n",
              "      <th>2</th>\n",
              "      <td>2</td>\n",
              "      <td>Afghanistan</td>\n",
              "      <td>March</td>\n",
              "      <td>Temperature change</td>\n",
              "      <td>Y1961</td>\n",
              "      <td>0.516</td>\n",
              "    </tr>\n",
              "    <tr>\n",
              "      <th>3</th>\n",
              "      <td>2</td>\n",
              "      <td>Afghanistan</td>\n",
              "      <td>April</td>\n",
              "      <td>Temperature change</td>\n",
              "      <td>Y1961</td>\n",
              "      <td>-1.709</td>\n",
              "    </tr>\n",
              "    <tr>\n",
              "      <th>4</th>\n",
              "      <td>2</td>\n",
              "      <td>Afghanistan</td>\n",
              "      <td>May</td>\n",
              "      <td>Temperature change</td>\n",
              "      <td>Y1961</td>\n",
              "      <td>1.412</td>\n",
              "    </tr>\n",
              "  </tbody>\n",
              "</table>\n",
              "</div>\n",
              "    <div class=\"colab-df-buttons\">\n",
              "\n",
              "  <div class=\"colab-df-container\">\n",
              "    <button class=\"colab-df-convert\" onclick=\"convertToInteractive('df-6948dac3-1f3c-4e8d-9076-f656086e1e84')\"\n",
              "            title=\"Convert this dataframe to an interactive table.\"\n",
              "            style=\"display:none;\">\n",
              "\n",
              "  <svg xmlns=\"http://www.w3.org/2000/svg\" height=\"24px\" viewBox=\"0 -960 960 960\">\n",
              "    <path d=\"M120-120v-720h720v720H120Zm60-500h600v-160H180v160Zm220 220h160v-160H400v160Zm0 220h160v-160H400v160ZM180-400h160v-160H180v160Zm440 0h160v-160H620v160ZM180-180h160v-160H180v160Zm440 0h160v-160H620v160Z\"/>\n",
              "  </svg>\n",
              "    </button>\n",
              "\n",
              "  <style>\n",
              "    .colab-df-container {\n",
              "      display:flex;\n",
              "      gap: 12px;\n",
              "    }\n",
              "\n",
              "    .colab-df-convert {\n",
              "      background-color: #E8F0FE;\n",
              "      border: none;\n",
              "      border-radius: 50%;\n",
              "      cursor: pointer;\n",
              "      display: none;\n",
              "      fill: #1967D2;\n",
              "      height: 32px;\n",
              "      padding: 0 0 0 0;\n",
              "      width: 32px;\n",
              "    }\n",
              "\n",
              "    .colab-df-convert:hover {\n",
              "      background-color: #E2EBFA;\n",
              "      box-shadow: 0px 1px 2px rgba(60, 64, 67, 0.3), 0px 1px 3px 1px rgba(60, 64, 67, 0.15);\n",
              "      fill: #174EA6;\n",
              "    }\n",
              "\n",
              "    .colab-df-buttons div {\n",
              "      margin-bottom: 4px;\n",
              "    }\n",
              "\n",
              "    [theme=dark] .colab-df-convert {\n",
              "      background-color: #3B4455;\n",
              "      fill: #D2E3FC;\n",
              "    }\n",
              "\n",
              "    [theme=dark] .colab-df-convert:hover {\n",
              "      background-color: #434B5C;\n",
              "      box-shadow: 0px 1px 3px 1px rgba(0, 0, 0, 0.15);\n",
              "      filter: drop-shadow(0px 1px 2px rgba(0, 0, 0, 0.3));\n",
              "      fill: #FFFFFF;\n",
              "    }\n",
              "  </style>\n",
              "\n",
              "    <script>\n",
              "      const buttonEl =\n",
              "        document.querySelector('#df-6948dac3-1f3c-4e8d-9076-f656086e1e84 button.colab-df-convert');\n",
              "      buttonEl.style.display =\n",
              "        google.colab.kernel.accessAllowed ? 'block' : 'none';\n",
              "\n",
              "      async function convertToInteractive(key) {\n",
              "        const element = document.querySelector('#df-6948dac3-1f3c-4e8d-9076-f656086e1e84');\n",
              "        const dataTable =\n",
              "          await google.colab.kernel.invokeFunction('convertToInteractive',\n",
              "                                                    [key], {});\n",
              "        if (!dataTable) return;\n",
              "\n",
              "        const docLinkHtml = 'Like what you see? Visit the ' +\n",
              "          '<a target=\"_blank\" href=https://colab.research.google.com/notebooks/data_table.ipynb>data table notebook</a>'\n",
              "          + ' to learn more about interactive tables.';\n",
              "        element.innerHTML = '';\n",
              "        dataTable['output_type'] = 'display_data';\n",
              "        await google.colab.output.renderOutput(dataTable, element);\n",
              "        const docLink = document.createElement('div');\n",
              "        docLink.innerHTML = docLinkHtml;\n",
              "        element.appendChild(docLink);\n",
              "      }\n",
              "    </script>\n",
              "  </div>\n",
              "\n",
              "\n",
              "<div id=\"df-b8a965b1-def9-423d-a56f-37e4b5c131d8\">\n",
              "  <button class=\"colab-df-quickchart\" onclick=\"quickchart('df-b8a965b1-def9-423d-a56f-37e4b5c131d8')\"\n",
              "            title=\"Suggest charts\"\n",
              "            style=\"display:none;\">\n",
              "\n",
              "<svg xmlns=\"http://www.w3.org/2000/svg\" height=\"24px\"viewBox=\"0 0 24 24\"\n",
              "     width=\"24px\">\n",
              "    <g>\n",
              "        <path d=\"M19 3H5c-1.1 0-2 .9-2 2v14c0 1.1.9 2 2 2h14c1.1 0 2-.9 2-2V5c0-1.1-.9-2-2-2zM9 17H7v-7h2v7zm4 0h-2V7h2v10zm4 0h-2v-4h2v4z\"/>\n",
              "    </g>\n",
              "</svg>\n",
              "  </button>\n",
              "\n",
              "<style>\n",
              "  .colab-df-quickchart {\n",
              "      --bg-color: #E8F0FE;\n",
              "      --fill-color: #1967D2;\n",
              "      --hover-bg-color: #E2EBFA;\n",
              "      --hover-fill-color: #174EA6;\n",
              "      --disabled-fill-color: #AAA;\n",
              "      --disabled-bg-color: #DDD;\n",
              "  }\n",
              "\n",
              "  [theme=dark] .colab-df-quickchart {\n",
              "      --bg-color: #3B4455;\n",
              "      --fill-color: #D2E3FC;\n",
              "      --hover-bg-color: #434B5C;\n",
              "      --hover-fill-color: #FFFFFF;\n",
              "      --disabled-bg-color: #3B4455;\n",
              "      --disabled-fill-color: #666;\n",
              "  }\n",
              "\n",
              "  .colab-df-quickchart {\n",
              "    background-color: var(--bg-color);\n",
              "    border: none;\n",
              "    border-radius: 50%;\n",
              "    cursor: pointer;\n",
              "    display: none;\n",
              "    fill: var(--fill-color);\n",
              "    height: 32px;\n",
              "    padding: 0;\n",
              "    width: 32px;\n",
              "  }\n",
              "\n",
              "  .colab-df-quickchart:hover {\n",
              "    background-color: var(--hover-bg-color);\n",
              "    box-shadow: 0 1px 2px rgba(60, 64, 67, 0.3), 0 1px 3px 1px rgba(60, 64, 67, 0.15);\n",
              "    fill: var(--button-hover-fill-color);\n",
              "  }\n",
              "\n",
              "  .colab-df-quickchart-complete:disabled,\n",
              "  .colab-df-quickchart-complete:disabled:hover {\n",
              "    background-color: var(--disabled-bg-color);\n",
              "    fill: var(--disabled-fill-color);\n",
              "    box-shadow: none;\n",
              "  }\n",
              "\n",
              "  .colab-df-spinner {\n",
              "    border: 2px solid var(--fill-color);\n",
              "    border-color: transparent;\n",
              "    border-bottom-color: var(--fill-color);\n",
              "    animation:\n",
              "      spin 1s steps(1) infinite;\n",
              "  }\n",
              "\n",
              "  @keyframes spin {\n",
              "    0% {\n",
              "      border-color: transparent;\n",
              "      border-bottom-color: var(--fill-color);\n",
              "      border-left-color: var(--fill-color);\n",
              "    }\n",
              "    20% {\n",
              "      border-color: transparent;\n",
              "      border-left-color: var(--fill-color);\n",
              "      border-top-color: var(--fill-color);\n",
              "    }\n",
              "    30% {\n",
              "      border-color: transparent;\n",
              "      border-left-color: var(--fill-color);\n",
              "      border-top-color: var(--fill-color);\n",
              "      border-right-color: var(--fill-color);\n",
              "    }\n",
              "    40% {\n",
              "      border-color: transparent;\n",
              "      border-right-color: var(--fill-color);\n",
              "      border-top-color: var(--fill-color);\n",
              "    }\n",
              "    60% {\n",
              "      border-color: transparent;\n",
              "      border-right-color: var(--fill-color);\n",
              "    }\n",
              "    80% {\n",
              "      border-color: transparent;\n",
              "      border-right-color: var(--fill-color);\n",
              "      border-bottom-color: var(--fill-color);\n",
              "    }\n",
              "    90% {\n",
              "      border-color: transparent;\n",
              "      border-bottom-color: var(--fill-color);\n",
              "    }\n",
              "  }\n",
              "</style>\n",
              "\n",
              "  <script>\n",
              "    async function quickchart(key) {\n",
              "      const quickchartButtonEl =\n",
              "        document.querySelector('#' + key + ' button');\n",
              "      quickchartButtonEl.disabled = true;  // To prevent multiple clicks.\n",
              "      quickchartButtonEl.classList.add('colab-df-spinner');\n",
              "      try {\n",
              "        const charts = await google.colab.kernel.invokeFunction(\n",
              "            'suggestCharts', [key], {});\n",
              "      } catch (error) {\n",
              "        console.error('Error during call to suggestCharts:', error);\n",
              "      }\n",
              "      quickchartButtonEl.classList.remove('colab-df-spinner');\n",
              "      quickchartButtonEl.classList.add('colab-df-quickchart-complete');\n",
              "    }\n",
              "    (() => {\n",
              "      let quickchartButtonEl =\n",
              "        document.querySelector('#df-b8a965b1-def9-423d-a56f-37e4b5c131d8 button');\n",
              "      quickchartButtonEl.style.display =\n",
              "        google.colab.kernel.accessAllowed ? 'block' : 'none';\n",
              "    })();\n",
              "  </script>\n",
              "</div>\n",
              "\n",
              "    </div>\n",
              "  </div>\n"
            ],
            "application/vnd.google.colaboratory.intrinsic+json": {
              "type": "dataframe",
              "variable_name": "data"
            }
          },
          "metadata": {},
          "execution_count": 93
        }
      ]
    },
    {
      "cell_type": "code",
      "source": [
        "#years without the Y letter\n",
        "data['Year'] = data['Year'].str[1:].astype('str')\n",
        "data"
      ],
      "metadata": {
        "id": "DoX5ifeL8HIf"
      },
      "execution_count": null,
      "outputs": []
    },
    {
      "cell_type": "code",
      "source": [
        "#Get the unique values of columns Months\n",
        "data[\"Months\"].unique()"
      ],
      "metadata": {
        "id": "HdCS7Gi78Kgi"
      },
      "execution_count": null,
      "outputs": []
    },
    {
      "cell_type": "code",
      "source": [
        "months = ['January', 'February', 'March', 'April', 'May', 'June', 'July',\n",
        "       'August', 'September', 'October', 'November', 'December']"
      ],
      "metadata": {
        "id": "iSWOUoZQ8Rjg"
      },
      "execution_count": null,
      "outputs": []
    },
    {
      "cell_type": "code",
      "source": [
        "#Get values where months is in : 'January', 'February', 'March', 'April', 'May', 'June', 'July', 'August', 'September', 'October', 'November', 'December'\n",
        "data = data[data['Months'].isin(months)]"
      ],
      "metadata": {
        "id": "i-3sCgw98WZr"
      },
      "execution_count": null,
      "outputs": []
    },
    {
      "cell_type": "code",
      "source": [
        "data['Months'].unique()"
      ],
      "metadata": {
        "id": "7TNuQzgt8W5w"
      },
      "execution_count": null,
      "outputs": []
    },
    {
      "cell_type": "code",
      "source": [
        "data.head()"
      ],
      "metadata": {
        "id": "AOAFL_9n9zdS"
      },
      "execution_count": null,
      "outputs": []
    },
    {
      "cell_type": "code",
      "source": [
        "# grouping data\n",
        "numeric_cols = data.select_dtypes(include=['number']).columns\n",
        "data = data.groupby(['Area', 'Year'])[numeric_cols].mean().reset_index()\n"
      ],
      "metadata": {
        "id": "flwQPFuv-ikE"
      },
      "execution_count": null,
      "outputs": []
    },
    {
      "cell_type": "code",
      "source": [
        "data.head()"
      ],
      "metadata": {
        "id": "5dnsPvjP-xTU"
      },
      "execution_count": null,
      "outputs": []
    },
    {
      "cell_type": "code",
      "source": [
        "data"
      ],
      "metadata": {
        "id": "SXU3q0vS_oOX"
      },
      "execution_count": null,
      "outputs": []
    },
    {
      "cell_type": "code",
      "source": [
        "#  getting top 10 and bottom 10 countries\n",
        "top_10 = data.groupby('Area').sum().sort_values('Temp Change', ascending=False)[:10].reset_index()['Area']\n",
        "bottom_10 = data.groupby('Area').sum().sort_values('Temp Change', ascending=True)[:10].reset_index()['Area']"
      ],
      "metadata": {
        "id": "kp97T5cFBblV"
      },
      "execution_count": null,
      "outputs": []
    },
    {
      "cell_type": "code",
      "source": [
        "top_10"
      ],
      "metadata": {
        "id": "boKhJBayBjNN"
      },
      "execution_count": null,
      "outputs": []
    },
    {
      "cell_type": "code",
      "source": [
        "bottom_10"
      ],
      "metadata": {
        "id": "bzhKObxXBlKI"
      },
      "execution_count": null,
      "outputs": []
    },
    {
      "cell_type": "code",
      "source": [
        "# Combine into a single DataFrame\n",
        "countries = pd.concat([top_10_df, bottom_10_df]).reset_index(drop=True)"
      ],
      "metadata": {
        "id": "27cWy1uTBpZ0"
      },
      "execution_count": null,
      "outputs": []
    },
    {
      "cell_type": "code",
      "source": [
        "data=data[data['Area'].isin(countries)]"
      ],
      "metadata": {
        "id": "eNpY5hU0Bsay"
      },
      "execution_count": null,
      "outputs": []
    },
    {
      "cell_type": "code",
      "source": [
        "#creating dataframe storing  countries with highest temprature\n",
        "data1=data[data['Area'].isin(top_10)].reset_index()"
      ],
      "metadata": {
        "id": "aOpTKLz7Ei66"
      },
      "execution_count": null,
      "outputs": []
    },
    {
      "cell_type": "code",
      "source": [
        "data1"
      ],
      "metadata": {
        "id": "LQ7-YQf7Gnmr"
      },
      "execution_count": null,
      "outputs": []
    },
    {
      "cell_type": "code",
      "source": [
        "data1 = data1.groupby(['Area']).max().reset_index()"
      ],
      "metadata": {
        "id": "EAay_BHLJ19P"
      },
      "execution_count": null,
      "outputs": []
    },
    {
      "cell_type": "code",
      "source": [
        "data1['Area'].unique()"
      ],
      "metadata": {
        "id": "zql8y730G1gt"
      },
      "execution_count": null,
      "outputs": []
    },
    {
      "cell_type": "code",
      "source": [
        "data1"
      ],
      "metadata": {
        "id": "Z8WzLDQQJyFy"
      },
      "execution_count": null,
      "outputs": []
    },
    {
      "cell_type": "code",
      "source": [
        "year=data[data[\"Year\"]==\"1961\"].sort_values('Area Code').reset_index()\n",
        "year2=data[data[\"Year\"]==\"2019\"].sort_values('Area Code').reset_index()"
      ],
      "metadata": {
        "id": "5RAq02xpHkHL"
      },
      "execution_count": null,
      "outputs": []
    },
    {
      "cell_type": "code",
      "source": [
        "year"
      ],
      "metadata": {
        "id": "KIoUnBYTNRH-"
      },
      "execution_count": null,
      "outputs": []
    },
    {
      "cell_type": "code",
      "source": [
        "year2"
      ],
      "metadata": {
        "id": "676BV0N2elS5"
      },
      "execution_count": null,
      "outputs": []
    },
    {
      "cell_type": "code",
      "source": [
        "overall=year[['Area','Temp Change']]"
      ],
      "metadata": {
        "id": "jzvccq_VbiXc"
      },
      "execution_count": null,
      "outputs": []
    },
    {
      "cell_type": "code",
      "source": [
        "overall['Temp Change2']=year2['Temp Change']"
      ],
      "metadata": {
        "id": "51xaWuzPWvkS"
      },
      "execution_count": null,
      "outputs": []
    },
    {
      "cell_type": "code",
      "source": [
        "overall['drop']=overall['Temp Change']-overall[\"Temp Change2\"]"
      ],
      "metadata": {
        "id": "pqf0n_x1dHRB"
      },
      "execution_count": null,
      "outputs": []
    },
    {
      "cell_type": "code",
      "source": [
        "#dataframe for overall drop in temprature\n",
        "overall"
      ],
      "metadata": {
        "id": "g1jub9HJfBXR"
      },
      "execution_count": null,
      "outputs": []
    },
    {
      "cell_type": "code",
      "source": [
        "overall1=overall[overall['drop']>0]"
      ],
      "metadata": {
        "id": "AWWSLvCJfChs"
      },
      "execution_count": null,
      "outputs": []
    },
    {
      "cell_type": "code",
      "source": [
        "overall1"
      ],
      "metadata": {
        "id": "L9mdRKfDgKrs"
      },
      "execution_count": null,
      "outputs": []
    },
    {
      "cell_type": "code",
      "source": [
        "rise1=data[data[\"Year\"]==\"1961\"].sort_values('Area Code').reset_index()\n",
        "rise2=data[data[\"Year\"]==\"2000\"].sort_values(\"Area Code\").reset_index()\n",
        "rise3=data[data[\"Year\"]==\"2019\"].sort_values('Area Code').reset_index()"
      ],
      "metadata": {
        "id": "GwPiTTaffrBJ"
      },
      "execution_count": null,
      "outputs": []
    },
    {
      "cell_type": "code",
      "source": [
        "c1=rise1[['Area','Temp Change']]\n",
        "c1[\"Temp Change2\"]=rise2['Temp Change']\n",
        "c1['Temp Change3']=rise3['Temp Change']\n",
        "c1"
      ],
      "metadata": {
        "id": "Dw1ej-qPhLPL"
      },
      "execution_count": null,
      "outputs": []
    },
    {
      "cell_type": "code",
      "source": [
        "c1['drop1']=c1['Temp Change2']-c1['Temp Change']"
      ],
      "metadata": {
        "id": "SDHT67QAhmvd"
      },
      "execution_count": null,
      "outputs": []
    },
    {
      "cell_type": "code",
      "source": [
        "c1"
      ],
      "metadata": {
        "id": "s77hvTDZibGH"
      },
      "execution_count": null,
      "outputs": []
    },
    {
      "cell_type": "code",
      "source": [
        "c2=c1[c1['drop1']<0.5]"
      ],
      "metadata": {
        "id": "97XIKaZ6icFo"
      },
      "execution_count": null,
      "outputs": []
    },
    {
      "cell_type": "code",
      "source": [
        "c2=c2[c2['drop1']>-0.5]"
      ],
      "metadata": {
        "id": "GpmhXgYWjJD3"
      },
      "execution_count": null,
      "outputs": []
    },
    {
      "cell_type": "code",
      "source": [
        "c2['rise']=c2['Temp Change3']-c2['Temp Change2']"
      ],
      "metadata": {
        "id": "bdbiUlymjkda"
      },
      "execution_count": null,
      "outputs": []
    },
    {
      "cell_type": "code",
      "source": [
        "c2"
      ],
      "metadata": {
        "id": "AMOtkrJtj68Z"
      },
      "execution_count": null,
      "outputs": []
    },
    {
      "cell_type": "code",
      "source": [
        "c3=c2[c2['rise']>0.6]"
      ],
      "metadata": {
        "id": "vmngQn_HlwUA"
      },
      "execution_count": null,
      "outputs": []
    },
    {
      "cell_type": "code",
      "source": [
        "c3"
      ],
      "metadata": {
        "id": "ZJkA0Lm0mTs2"
      },
      "execution_count": null,
      "outputs": []
    },
    {
      "cell_type": "markdown",
      "source": [
        "## Data Visualization"
      ],
      "metadata": {
        "id": "RU2ImD6EtA8N"
      }
    },
    {
      "cell_type": "code",
      "source": [
        "fig1=px.bar(data,x='Temp Change',y='Area',animation_frame='Year', hover_name='Temp Change',\n",
        "      range_x=[-3.5,5.5], color='Area')\n",
        "fig1.show()"
      ],
      "metadata": {
        "id": "gXp8va82qawQ"
      },
      "execution_count": null,
      "outputs": []
    },
    {
      "cell_type": "markdown",
      "source": [
        "# Conclusion fig. 1\n",
        "The above graph showng 20 countries temperature change from 1961 to 2019.\n",
        "the graph shows that as compared to 1961 some countries experienced an abnormal rise in the temprature  in 2019 whereas som countries experienced a drop in temprature change.**bold text**"
      ],
      "metadata": {
        "id": "qQKOixYItJeM"
      }
    },
    {
      "cell_type": "code",
      "source": [
        "fig2=px.bar(data1,x='Area',y='Temp Change',title=\"TOP 10 COUNTRIES HAVE HIGNEST TEMPERATURE\")\n",
        "fig2.show()"
      ],
      "metadata": {
        "id": "rBT0I--xqam5"
      },
      "execution_count": null,
      "outputs": []
    },
    {
      "cell_type": "markdown",
      "source": [
        "# Conclusion fig. 2\n",
        "The above graph represents top 10 countries having highest temperature over deades.\n",
        "it can be seen that Svalbard and Jan Mayen Islands experienced the highest temperature i.e. 5.454083."
      ],
      "metadata": {
        "id": "VPUawM_muPa3"
      }
    },
    {
      "cell_type": "code",
      "source": [
        "fig3=px.bar(overall1,x='Area',y='drop',title=\"countries experiencing overall drop over years\")\n",
        "fig3.show()"
      ],
      "metadata": {
        "id": "yFwIsfhwqac2"
      },
      "execution_count": null,
      "outputs": []
    },
    {
      "cell_type": "markdown",
      "source": [
        "# Conclusion fig. 3\n",
        "the above figure represent the countries thet have experienced an overall drop in temperature over years.\n",
        "Czechoslovakia has experience the highest drop i.e 0.76825 as compared to its temperature in 1961.\n",
        "Singapre has experience a very less drop in temprature i.e. 0.02508333 as compared to its temperature in 1961.\n",
        "the second most country that experienced the the overall drop is Pitcairn Islands i.e. 0.6144167. Countries like Yugoslav SFR, Midway Island, Niue have also experienced overall drop in temperature as compared to their temperature in 1961"
      ],
      "metadata": {
        "id": "4n1_-rIHvFPX"
      }
    },
    {
      "cell_type": "code",
      "source": [
        "fig4 = px.bar(c2, x=\"Area\", y=\"drop1\", color='Area', title='Countries maintaing temperature till 2000')\n",
        "fig4.show()"
      ],
      "metadata": {
        "id": "w_Czlx1rqaP6"
      },
      "execution_count": null,
      "outputs": []
    },
    {
      "cell_type": "markdown",
      "source": [
        "# Conclusion fig. 4\n",
        "The above figure reprensts the countries that maintain their tempersture till 2000.\n",
        "These countries have maintained their temperature from 1961 within range  -0.5 to 0.5 which can be considered as no major change in their temperature"
      ],
      "metadata": {
        "id": "gnFr5chzwnqn"
      }
    },
    {
      "cell_type": "code",
      "source": [
        "fig5 = px.bar(c3, x=\"Area\", y=\"rise\", color='Area', title='countries experiencing abnormal rise in temperature after 2000 after maintainimg temperature till 2000 ')\n",
        "fig5.show()"
      ],
      "metadata": {
        "id": "QvIPN_WLnBbg"
      },
      "execution_count": null,
      "outputs": []
    },
    {
      "cell_type": "markdown",
      "source": [
        "# Conclusion fig.5\n",
        "the above figure reprents the countries which shows abnomal rise in temperature or rise in temperatur at alarming rate after maintaing their temperature till 2000.\n",
        "Eastern Europe shows a rise in temperature i.e 1.392333 after maintaing its temperature till 2000 ,in 2000 the temperature of Eastern Europe was 1.009417 amd in 2019 its temperature rise to 2.401750.\n",
        "Similarly Marshall Island shows a rise  in temperature i.e. 0.68275 after maintaing its temperature till 2000, in 2000 the temperature of Marshall Island was -0.263583 amd in 2019 its temperature rise to 0.419167."
      ],
      "metadata": {
        "id": "zkQoRMfztHPV"
      }
    }
  ]
}